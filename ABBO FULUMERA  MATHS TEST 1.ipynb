{
 "cells": [
  {
   "cell_type": "markdown",
   "id": "d8260770",
   "metadata": {},
   "source": [
    " Name:ABBO FULUMERA\n",
    "REG NO:2022/DCSE/013/SS\n",
    "TEST: 1\n",
    " DATE:29-07-2022\n",
    " SECTION 1"
   ]
  },
  {
   "cell_type": "code",
   "execution_count": null,
   "id": "eda7e538",
   "metadata": {},
   "outputs": [],
   "source": [
    "# importing labraries"
   ]
  },
  {
   "cell_type": "code",
   "execution_count": 28,
   "id": "bf80e156",
   "metadata": {},
   "outputs": [],
   "source": [
    "import numpy as np"
   ]
  },
  {
   "cell_type": "code",
   "execution_count": 29,
   "id": "5d9397c4",
   "metadata": {},
   "outputs": [],
   "source": [
    "import matplotlib.pyplot as plt"
   ]
  },
  {
   "cell_type": "markdown",
   "id": "d0b566a8",
   "metadata": {},
   "source": [
    "QN 1\n",
    "C"
   ]
  },
  {
   "cell_type": "markdown",
   "id": "9b02d892",
   "metadata": {},
   "source": [
    "QN 2\n",
    "D"
   ]
  },
  {
   "cell_type": "markdown",
   "id": "10c2a74f",
   "metadata": {},
   "source": [
    "QN 3\n"
   ]
  },
  {
   "cell_type": "markdown",
   "id": "ec29c0e0",
   "metadata": {},
   "source": [
    "QN 4\n",
    "A"
   ]
  },
  {
   "cell_type": "markdown",
   "id": "55faa539",
   "metadata": {},
   "source": [
    "QN 5\n",
    "C"
   ]
  },
  {
   "cell_type": "markdown",
   "id": "05022576",
   "metadata": {},
   "source": [
    "QN 6\n",
    "B"
   ]
  },
  {
   "cell_type": "markdown",
   "id": "0834f3cc",
   "metadata": {},
   "source": [
    "QN 7\n",
    "C"
   ]
  },
  {
   "cell_type": "markdown",
   "id": "ba4aaf11",
   "metadata": {},
   "source": [
    "QN 8\n",
    "D Because it is indepedent."
   ]
  },
  {
   "cell_type": "markdown",
   "id": "5e73c414",
   "metadata": {},
   "source": [
    " QN 9\n",
    " a\n",
    "D"
   ]
  },
  {
   "cell_type": "markdown",
   "id": "57869994",
   "metadata": {},
   "source": [
    "QN 10\n",
    "a\n",
    "B"
   ]
  },
  {
   "cell_type": "markdown",
   "id": "d21847a4",
   "metadata": {},
   "source": [
    "QN 10\n",
    "B\n",
    "4"
   ]
  },
  {
   "cell_type": "code",
   "execution_count": null,
   "id": "f75b59eb",
   "metadata": {},
   "outputs": [],
   "source": [
    "SECTION 2"
   ]
  },
  {
   "cell_type": "code",
   "execution_count": 2,
   "id": "e0b76960",
   "metadata": {},
   "outputs": [],
   "source": [
    "import numpy as np"
   ]
  },
  {
   "cell_type": "code",
   "execution_count": null,
   "id": "05903222",
   "metadata": {},
   "outputs": [],
   "source": [
    "import matplotlib.pyplot as plt"
   ]
  },
  {
   "cell_type": "code",
   "execution_count": 21,
   "id": "f6adba05",
   "metadata": {},
   "outputs": [],
   "source": [
    "import math"
   ]
  },
  {
   "cell_type": "code",
   "execution_count": 22,
   "id": "72b5f317",
   "metadata": {},
   "outputs": [
    {
     "name": "stdout",
     "output_type": "stream",
     "text": [
      "(3, 2)\n"
     ]
    }
   ],
   "source": [
    "#QN 5\n",
    "1\n",
    "x = np.array([[25, 2], [5, 26], [3, 7]])\n",
    "print(x.shape)"
   ]
  },
  {
   "cell_type": "code",
   "execution_count": 6,
   "id": "27c11d93",
   "metadata": {},
   "outputs": [
    {
     "name": "stdout",
     "output_type": "stream",
     "text": [
      "[25, 5, 3]\n",
      "[2, 26, 7]\n"
     ]
    }
   ],
   "source": [
    "#QN 5 Transponsing matrix using list comprehension\n",
    "2\n",
    "x = np.array([[25, 2], [5, 26], [3, 7]])\n",
    "result = [[X[j][i] for j in range(len(X))] for i in range(len(X[0]))]\n",
    "\n",
    "for b in result:\n",
    "   print(b)"
   ]
  },
  {
   "cell_type": "code",
   "execution_count": 7,
   "id": "d31f2ce4",
   "metadata": {},
   "outputs": [
    {
     "name": "stdout",
     "output_type": "stream",
     "text": [
      "[[75  6]\n",
      " [15 78]\n",
      " [ 9 21]]\n"
     ]
    }
   ],
   "source": [
    "#QN 5 multiplication of matrix by a scaler\n",
    "3\n",
    "x = np.array([[25, 2], [5, 26], [3, 7]])\n",
    "s=3*np.array([[25, 2], [5, 26], [3, 7]])\n",
    "print(s)"
   ]
  },
  {
   "cell_type": "code",
   "execution_count": 14,
   "id": "e568d3ac",
   "metadata": {},
   "outputs": [
    {
     "name": "stdout",
     "output_type": "stream",
     "text": [
      "[3, 5, 7]\n",
      "[4, 6, 8]\n"
     ]
    }
   ],
   "source": [
    "#QN5  multiplication of matrices X and A\n",
    "4\n",
    "A = ([[3, 4], [5, 6], [7, 8]])\n",
    "result = [[A[j][i] for j in range(len(A))] for i in range(len(A[0]))]\n",
    "for y in result:\n",
    " print(y)\n",
    "# results of the transponse of matrixes x and A"
   ]
  },
  {
   "cell_type": "markdown",
   "id": "a2e0711b",
   "metadata": {},
   "source": [
    "Matix x=b\n",
    "      A=y"
   ]
  },
  {
   "cell_type": "code",
   "execution_count": 16,
   "id": "3d8b0e14",
   "metadata": {},
   "outputs": [
    {
     "name": "stdout",
     "output_type": "stream",
     "text": [
      "[[ 75  25  21]\n",
      " [  8 156  56]]\n"
     ]
    }
   ],
   "source": [
    " multiplication of 2x2 matrixes which is the results of the transponse of matrixes x and A\n",
    "b=np.array([[25, 5, 3],\n",
    "[2, 26, 7]])\n",
    "y=np.array([[3, 5, 7],\n",
    "[4, 6, 8]])\n",
    "print(b*y)"
   ]
  },
  {
   "cell_type": "code",
   "execution_count": 23,
   "id": "f79710ff",
   "metadata": {},
   "outputs": [
    {
     "ename": "LinAlgError",
     "evalue": "Last 2 dimensions of the array must be square",
     "output_type": "error",
     "traceback": [
      "\u001b[1;31m---------------------------------------------------------------------------\u001b[0m",
      "\u001b[1;31mLinAlgError\u001b[0m                               Traceback (most recent call last)",
      "Input \u001b[1;32mIn [23]\u001b[0m, in \u001b[0;36m<cell line: 4>\u001b[1;34m()\u001b[0m\n\u001b[0;32m      2\u001b[0m \u001b[38;5;241m5\u001b[39m \u001b[38;5;66;03m#Getting inverse of  the result of multiplication of matrices\u001b[39;00m\n\u001b[0;32m      3\u001b[0m arr \u001b[38;5;241m=\u001b[39m np\u001b[38;5;241m.\u001b[39marray([[\u001b[38;5;241m75\u001b[39m, \u001b[38;5;241m25\u001b[39m, \u001b[38;5;241m21\u001b[39m], [\u001b[38;5;241m8\u001b[39m, \u001b[38;5;241m156\u001b[39m, \u001b[38;5;241m56\u001b[39m]])\n\u001b[1;32m----> 4\u001b[0m inverse_array \u001b[38;5;241m=\u001b[39m \u001b[43mnp\u001b[49m\u001b[38;5;241;43m.\u001b[39;49m\u001b[43mlinalg\u001b[49m\u001b[38;5;241;43m.\u001b[39;49m\u001b[43minv\u001b[49m\u001b[43m(\u001b[49m\u001b[43marr\u001b[49m\u001b[43m)\u001b[49m\n\u001b[0;32m      5\u001b[0m \u001b[38;5;28mprint\u001b[39m(\u001b[38;5;124m\"\u001b[39m\u001b[38;5;124mInverse array is \u001b[39m\u001b[38;5;124m\"\u001b[39m)\n\u001b[0;32m      6\u001b[0m \u001b[38;5;28mprint\u001b[39m(inverse_array)\n",
      "File \u001b[1;32m<__array_function__ internals>:180\u001b[0m, in \u001b[0;36minv\u001b[1;34m(*args, **kwargs)\u001b[0m\n",
      "File \u001b[1;32m~\\AppData\\Local\\Programs\\Python\\Python310\\lib\\site-packages\\numpy\\linalg\\linalg.py:547\u001b[0m, in \u001b[0;36minv\u001b[1;34m(a)\u001b[0m\n\u001b[0;32m    545\u001b[0m a, wrap \u001b[38;5;241m=\u001b[39m _makearray(a)\n\u001b[0;32m    546\u001b[0m _assert_stacked_2d(a)\n\u001b[1;32m--> 547\u001b[0m \u001b[43m_assert_stacked_square\u001b[49m\u001b[43m(\u001b[49m\u001b[43ma\u001b[49m\u001b[43m)\u001b[49m\n\u001b[0;32m    548\u001b[0m t, result_t \u001b[38;5;241m=\u001b[39m _commonType(a)\n\u001b[0;32m    550\u001b[0m signature \u001b[38;5;241m=\u001b[39m \u001b[38;5;124m'\u001b[39m\u001b[38;5;124mD->D\u001b[39m\u001b[38;5;124m'\u001b[39m \u001b[38;5;28;01mif\u001b[39;00m isComplexType(t) \u001b[38;5;28;01melse\u001b[39;00m \u001b[38;5;124m'\u001b[39m\u001b[38;5;124md->d\u001b[39m\u001b[38;5;124m'\u001b[39m\n",
      "File \u001b[1;32m~\\AppData\\Local\\Programs\\Python\\Python310\\lib\\site-packages\\numpy\\linalg\\linalg.py:204\u001b[0m, in \u001b[0;36m_assert_stacked_square\u001b[1;34m(*arrays)\u001b[0m\n\u001b[0;32m    202\u001b[0m m, n \u001b[38;5;241m=\u001b[39m a\u001b[38;5;241m.\u001b[39mshape[\u001b[38;5;241m-\u001b[39m\u001b[38;5;241m2\u001b[39m:]\n\u001b[0;32m    203\u001b[0m \u001b[38;5;28;01mif\u001b[39;00m m \u001b[38;5;241m!=\u001b[39m n:\n\u001b[1;32m--> 204\u001b[0m     \u001b[38;5;28;01mraise\u001b[39;00m LinAlgError(\u001b[38;5;124m'\u001b[39m\u001b[38;5;124mLast 2 dimensions of the array must be square\u001b[39m\u001b[38;5;124m'\u001b[39m)\n",
      "\u001b[1;31mLinAlgError\u001b[0m: Last 2 dimensions of the array must be square"
     ]
    }
   ],
   "source": [
    "# QN 5\n",
    "5 #Getting inverse of  the result of multiplication of matrices\n",
    "arr = np.array([[75, 25, 21], [8, 156, 56]])\n",
    "inverse_array = np.linalg.inv(arr)\n",
    "print(\"Inverse array is \")\n",
    "print(inverse_array)\n",
    "print(arr)"
   ]
  },
  {
   "cell_type": "markdown",
   "id": "02b184b7",
   "metadata": {},
   "source": [
    "QN 6"
   ]
  },
  {
   "cell_type": "code",
   "execution_count": 27,
   "id": "66630742",
   "metadata": {},
   "outputs": [
    {
     "name": "stdout",
     "output_type": "stream",
     "text": [
      "[1.0, 0.2, 0.5]\n",
      "[0.2, 1.0, 0.8]\n",
      "[0.5, 0.8, 1.0]\n",
      "Inverse array is \n",
      "[[ 1.56521739  0.86956522 -1.47826087]\n",
      " [ 0.86956522  3.26086957 -3.04347826]\n",
      " [-1.47826087 -3.04347826  4.17391304]]\n",
      "[[1.0, 0.2, 0.5], [0.2, 1.0, 0.8], [0.5, 0.8, 1.0]]\n"
     ]
    }
   ],
   "source": [
    "k=np.array([[1, 0.2, 0.5],[0.2, 1, 0.8],[0.5, 0.8, 1]])\n",
    "result = [[k[j][i] for j in range(len(k))] for i in range(len(k[0]))]# getting the transponse first\n",
    "for n in result:\n",
    "   print(n)\n",
    "#getting the inversion of the transponse\n",
    "trans=([[1.0, 0.2, 0.5],\n",
    "[0.2, 1.0, 0.8],\n",
    "[0.5, 0.8, 1.0]])\n",
    "inverse_array = np.linalg.inv(trans)\n",
    "print(\"Inverse array is \")\n",
    "print(inverse_array)\n",
    "print(trans)"
   ]
  },
  {
   "cell_type": "code",
   "execution_count": null,
   "id": "1f4963f3",
   "metadata": {},
   "outputs": [],
   "source": []
  }
 ],
 "metadata": {
  "kernelspec": {
   "display_name": "Python 3 (ipykernel)",
   "language": "python",
   "name": "python3"
  },
  "language_info": {
   "codemirror_mode": {
    "name": "ipython",
    "version": 3
   },
   "file_extension": ".py",
   "mimetype": "text/x-python",
   "name": "python",
   "nbconvert_exporter": "python",
   "pygments_lexer": "ipython3",
   "version": "3.10.5"
  }
 },
 "nbformat": 4,
 "nbformat_minor": 5
}
